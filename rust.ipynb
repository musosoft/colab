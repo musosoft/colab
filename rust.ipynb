{
  "nbformat": 4,
  "nbformat_minor": 0,
  "metadata": {
    "colab": {
      "name": "rust.ipynb",
      "provenance": [],
      "include_colab_link": true
    },
    "kernelspec": {
      "name": "rust",
      "display_name": "Rust"
    }
  },
  "cells": [
    {
      "cell_type": "markdown",
      "metadata": {
        "id": "view-in-github",
        "colab_type": "text"
      },
      "source": [
        "<a href=\"https://colab.research.google.com/github/musosoft/colab/blob/main/rust.ipynb\" target=\"_parent\"><img src=\"https://colab.research.google.com/assets/colab-badge.svg\" alt=\"Open In Colab\"/></a>"
      ]
    },
    {
      "cell_type": "code",
      "metadata": {
        "id": "p--wYZ2QwcgN",
        "colab": {
          "base_uri": "https://localhost:8080/"
        },
        "outputId": "cf7567f1-2346-4b39-e033-796931c58b8b"
      },
      "source": [
        "# This script sets up and spins up a Jupyter Notebook environment with a Rust kernel using Nix and IPC Proxy.\n",
        "!wget -qO- https://gist.github.com/wiseaidev/2af6bef753d48565d11bcd478728c979/archive/3f6df40db09f3517ade41997b541b81f0976c12e.tar.gz | tar xvz --strip-components=1\n",
        "!bash setup_evcxr_kernel.sh"
      ],
      "execution_count": null,
      "outputs": [
        {
          "output_type": "stream",
          "name": "stdout",
          "text": [
            "2af6bef753d48565d11bcd478728c979-3f6df40db09f3517ade41997b541b81f0976c12e/setup_evcxr_kernel.sh\n",
            "\u001b[1minfo:\u001b[0m downloading installer \u001b[4mhttps://install.determinate.systems/nix/tag/v3.3.1/nix-installer-x86_64-linux\u001b[0m\n",
            "\u001b[32m INFO\u001b[0m nix-installer v3.3.1\n",
            "\u001b[32m INFO\u001b[0m Step: Create directory `/nix`\n",
            "\u001b[32m INFO\u001b[0m Step: Provision Nix\n",
            "\u001b[32m INFO\u001b[0m Step: Create build users (UID 30001-30032) and group (GID 30000)\n",
            "\u001b[32m INFO\u001b[0m Step: Configure Nix\n",
            "\u001b[32m INFO\u001b[0m Step: Create directory `/etc/tmpfiles.d`\n",
            "\u001b[32m INFO\u001b[0m Step: Configure upstream Nix daemon service\n",
            "\u001b[32m INFO\u001b[0m Step: Remove directory `/nix/temp-install-dir`\n",
            "\u001b[33m WARN\u001b[0m SelfTest([ShellFailed { shell: Sh, command: \"\\\"sh\\\" \\\"-lc\\\" \\\"nix build --option substitute false --option post-build-hook \\\\'\\\\' --no-link --expr \\\\'derivation { name = \\\\\\\"self-test-sh-1745161272584\\\\\\\"; system = \\\\\\\"x86_64-linux\\\\\\\"; builder = \\\\\\\"/bin/sh\\\\\\\"; args = [\\\\\\\"-c\\\\\\\" \\\\\\\"echo hello > \\\\\\\\$out\\\\\\\"]; }\\\\'\\\"\", output: Output { status: ExitStatus(unix_wait_status(256)), stdout: \"\", stderr: \"error:\\n       … while calling the 'derivationStrict' builtin\\n         at <nix/derivation-internal.nix>:37:12:\\n           36|\\n           37|   strict = derivationStrict drvAttrs;\\n             |            ^\\n           38|\\n\\n       … while evaluating derivation 'self-test-sh-1745161272584'\\n         whose name attribute is located at «string»:1:14\\n\\n       error: cannot connect to socket at '/nix/var/nix/daemon-socket/socket': No such file or directory\\n\" } }, ShellFailed { shell: Bash, command: \"\\\"bash\\\" \\\"-lc\\\" \\\"nix build --option substitute false --option post-build-hook \\\\'\\\\' --no-link --expr \\\\'derivation { name = \\\\\\\"self-test-bash-1745161272650\\\\\\\"; system = \\\\\\\"x86_64-linux\\\\\\\"; builder = \\\\\\\"/bin/sh\\\\\\\"; args = [\\\\\\\"-c\\\\\\\" \\\\\\\"echo hello > \\\\\\\\$out\\\\\\\"]; }\\\\'\\\"\", output: Output { status: ExitStatus(unix_wait_status(256)), stdout: \"\", stderr: \"error:\\n       … while calling the 'derivationStrict' builtin\\n         at <nix/derivation-internal.nix>:37:12:\\n           36|\\n           37|   strict = derivationStrict drvAttrs;\\n             |            ^\\n           38|\\n\\n       … while evaluating derivation 'self-test-bash-1745161272650'\\n         whose name attribute is located at «string»:1:14\\n\\n       error: cannot connect to socket at '/nix/var/nix/daemon-socket/socket': No such file or directory\\n\" } }])\n",
            "\u001b[1m\u001b[32mNix was installed successfully!\u001b[39m\u001b[0m\n",
            "To get started using Nix, open a new shell or run `\u001b[1m. /nix/var/nix/profiles/default/etc/profile.d/nix-daemon.sh\u001b[0m`\n",
            "\n",
            "unpacking 'github:NixOS/nixpkgs/ebe4301cbd8f81c4f8d3244b3632338bbeb6d49c' into the Git cache...\n",
            "installing 'cargo-1.86.0'\n",
            "installing 'rustc-wrapper-1.86.0'\n",
            "installing 'evcxr-0.17.0'\n",
            "installing 'sccache-0.10.0'\n",
            "these 50 paths will be fetched (404.00 MiB download, 2054.23 MiB unpacked):\n",
            "  /nix/store/zlhxfnpm04w3gyv4v4dvd9x4aj4nghfw-acl-2.3.2\n",
            "  /nix/store/gki9d8dw4r9ri6zx44vsj90dnn9zji48-attr-2.5.2\n",
            "  /nix/store/9nw8b61s8lfdn8fkabxhbz0s775gjhbr-bash-5.2p37\n",
            "  /nix/store/hzw38c3f7s0w200cgk9645z53al7k8lw-binutils-2.44\n",
            "  /nix/store/y2wf97cykyg2sjsiv7rnm2dwhnjhcws4-binutils-2.44-lib\n",
            "  /nix/store/i74bzbaq6i1bgy9frznv9n21b2z77nyd-binutils-wrapper-2.44\n",
            "  /nix/store/kmrk6s3mlf7an638hfy6lhi6y4dkmqa4-brotli-1.1.0-lib\n",
            "  /nix/store/fz4yh05dwsbdaq1h2mxf6ls3vnz4jjr4-cargo-1.86.0\n",
            "  /nix/store/h5rn37dd6vfvr9xb0jq85sq8hf6xchry-coreutils-9.6\n",
            "  /nix/store/kmq714baxkd5yzpnbp09b7dhnks6m74q-curl-8.12.1\n",
            "  /nix/store/6p0cpd83qy3vc250q2igbv3367adll0j-evcxr-0.17.0\n",
            "  /nix/store/ki1g52605s0v78599yikrxlschqznzkk-expand-response-params\n",
            "  /nix/store/qs54xir5n4vhhbi22aydbkvyyq4v8p0l-gcc-14.2.1.20250322\n",
            "  /nix/store/7n3q3rgy5382di7ccrh3r6gk2xp51dh7-gcc-14.2.1.20250322-lib\n",
            "  /nix/store/fzng86iv5f6gws4cdv97s7va7kxnd43q-gcc-14.2.1.20250322-libgcc\n",
            "  /nix/store/f0m6caffiykyvsjim9376a3hx2yj2ghj-gcc-wrapper-14.2.1.20250322\n",
            "  /nix/store/vbrdc5wgzn0w1zdp10xd2favkjn5fk7y-glibc-2.40-66\n",
            "  /nix/store/lkgfphix3sgfsm38smsw38xk81h3f3ig-glibc-2.40-66-bin\n",
            "  /nix/store/pz6jgrfqyl2il2785a75vmwdp9vypv0j-glibc-2.40-66-dev\n",
            "  /nix/store/bmdgw398hky2ks8amikzdz8ci866hcpv-gmp-6.3.0\n",
            "  /nix/store/aqyb52i14zfswbawqlr8212pmagsrnzs-gmp-with-cxx-6.3.0\n",
            "  /nix/store/8i12gp78n1m9z794miwbsclgyyp5nm5s-gnugrep-3.11\n",
            "  /nix/store/dpc0ysyfh1dniswvxnacc1pnsacikw7r-isl-0.20\n",
            "  /nix/store/1ld3kw0dnc06752c0bl5y051rvqd90ri-keyutils-1.6.3-lib\n",
            "  /nix/store/vdkk3hy54q6bj8j0cvjh5b8pbb7rfgm2-krb5-1.21.3-lib\n",
            "  /nix/store/09b5m303v4d52wjry30xsabj65vnhkni-libffi-3.4.7\n",
            "  /nix/store/k9bxzr1l92r5y6mihrkbpbr3fmc8qszx-libidn2-2.3.8\n",
            "  /nix/store/q49nn0l8cc0682k4fg50lw1jx5ycqacl-libmpc-1.3.1\n",
            "  /nix/store/i426dwpfbiszg0nanln763f2qgcla4s3-libpsl-0.21.5\n",
            "  /nix/store/ya5q1l7bvn87b2dpsy9fp0s819b50y3l-libssh2-1.11.1\n",
            "  /nix/store/mbx9ii53lzjlrsnlrfmzpwm33ynljwdn-libunistring-1.3\n",
            "  /nix/store/cyfnv9cf24p0zn3hasvjamf14f75inv4-libxml2-2.13.6\n",
            "  /nix/store/l29lwm6mm3lx30cz6nchwiwz5rmd30hr-linux-headers-6.12.7\n",
            "  /nix/store/cfsnf5wa9z9yklqilbijcw187923xyim-llvm-19.1.7-lib\n",
            "  /nix/store/vggjq418ca0z4pcknm61anh5kqjc3xsr-mpfr-4.2.1\n",
            "  /nix/store/nklqi1qdypdpwq6ami49f0mp23c1l27h-nghttp2-1.65.0-lib\n",
            "  /nix/store/yss7dszbr0pz3zqym0kf167rh71l870m-openssl-3.4.1\n",
            "  /nix/store/nalqwq0dpzqnp4nfv25370cb17q3wx4j-pcre2-10.44\n",
            "  /nix/store/jgb9ijhkwa7298hmqnsagsznarix9j6w-publicsuffix-list-0-unstable-2025-03-12\n",
            "  /nix/store/f2rzj0z6ghim1xrrwcqlll8lcfxabbsf-rust-lib-src\n",
            "  /nix/store/lzxvm0dsrr14xrh3nrkws5v065cn5sp3-rustc-1.86.0\n",
            "  /nix/store/hr8iif5qihi84d7lh9764csf0002nr83-rustc-1.86.0-doc\n",
            "  /nix/store/b53c95zl076aq8n8hzknr0w5m9rj0z5a-rustc-1.86.0-man\n",
            "  /nix/store/szc39h0qqfs4fvvln0c59pz99q90zzdn-rustc-wrapper-1.86.0\n",
            "  /nix/store/nybwwcn1dra2z3vxi4h4v7rj9fr34pvs-rustc-wrapper-1.86.0-doc\n",
            "  /nix/store/ssid482a107q5vw18l9millwnpp4rgxb-rustc-wrapper-1.86.0-man\n",
            "  /nix/store/2ln4xki7f2zhxygvcfv5hqv7pibizc5c-sccache-0.10.0\n",
            "  /nix/store/rf8hcy6bldxdqc0g6q1dcka1vh47x69s-xgcc-14.2.1.20250322-libgcc\n",
            "  /nix/store/jk27jlxfsljcmz4jgxkxkmrc1hjgmq1p-zlib-1.3.1\n",
            "  /nix/store/jhpnlsrqi0qvv0jjwk1pq8ddqmgz1gjl-zstd-1.5.7\n",
            "copying path '/nix/store/f2rzj0z6ghim1xrrwcqlll8lcfxabbsf-rust-lib-src' from 'https://cache.nixos.org'...\n",
            "copying path '/nix/store/hr8iif5qihi84d7lh9764csf0002nr83-rustc-1.86.0-doc' from 'https://cache.nixos.org'...\n",
            "copying path '/nix/store/fzng86iv5f6gws4cdv97s7va7kxnd43q-gcc-14.2.1.20250322-libgcc' from 'https://cache.nixos.org'...\n",
            "copying path '/nix/store/b53c95zl076aq8n8hzknr0w5m9rj0z5a-rustc-1.86.0-man' from 'https://cache.nixos.org'...\n",
            "copying path '/nix/store/rf8hcy6bldxdqc0g6q1dcka1vh47x69s-xgcc-14.2.1.20250322-libgcc' from 'https://cache.nixos.org'...\n",
            "copying path '/nix/store/jgb9ijhkwa7298hmqnsagsznarix9j6w-publicsuffix-list-0-unstable-2025-03-12' from 'https://cache.nixos.org'...\n",
            "copying path '/nix/store/mbx9ii53lzjlrsnlrfmzpwm33ynljwdn-libunistring-1.3' from 'https://cache.nixos.org'...\n",
            "copying path '/nix/store/l29lwm6mm3lx30cz6nchwiwz5rmd30hr-linux-headers-6.12.7' from 'https://cache.nixos.org'...\n",
            "copying path '/nix/store/ssid482a107q5vw18l9millwnpp4rgxb-rustc-wrapper-1.86.0-man' from 'https://cache.nixos.org'...\n",
            "copying path '/nix/store/k9bxzr1l92r5y6mihrkbpbr3fmc8qszx-libidn2-2.3.8' from 'https://cache.nixos.org'...\n",
            "copying path '/nix/store/vbrdc5wgzn0w1zdp10xd2favkjn5fk7y-glibc-2.40-66' from 'https://cache.nixos.org'...\n",
            "copying path '/nix/store/7n3q3rgy5382di7ccrh3r6gk2xp51dh7-gcc-14.2.1.20250322-lib' from 'https://cache.nixos.org'...\n",
            "copying path '/nix/store/nklqi1qdypdpwq6ami49f0mp23c1l27h-nghttp2-1.65.0-lib' from 'https://cache.nixos.org'...\n",
            "copying path '/nix/store/yss7dszbr0pz3zqym0kf167rh71l870m-openssl-3.4.1' from 'https://cache.nixos.org'...\n",
            "copying path '/nix/store/lkgfphix3sgfsm38smsw38xk81h3f3ig-glibc-2.40-66-bin' from 'https://cache.nixos.org'...\n",
            "copying path '/nix/store/bmdgw398hky2ks8amikzdz8ci866hcpv-gmp-6.3.0' from 'https://cache.nixos.org'...\n",
            "copying path '/nix/store/nalqwq0dpzqnp4nfv25370cb17q3wx4j-pcre2-10.44' from 'https://cache.nixos.org'...\n",
            "copying path '/nix/store/1ld3kw0dnc06752c0bl5y051rvqd90ri-keyutils-1.6.3-lib' from 'https://cache.nixos.org'...\n",
            "copying path '/nix/store/cyfnv9cf24p0zn3hasvjamf14f75inv4-libxml2-2.13.6' from 'https://cache.nixos.org'...\n",
            "copying path '/nix/store/i426dwpfbiszg0nanln763f2qgcla4s3-libpsl-0.21.5' from 'https://cache.nixos.org'...\n",
            "copying path '/nix/store/ki1g52605s0v78599yikrxlschqznzkk-expand-response-params' from 'https://cache.nixos.org'...\n",
            "copying path '/nix/store/kmrk6s3mlf7an638hfy6lhi6y4dkmqa4-brotli-1.1.0-lib' from 'https://cache.nixos.org'...\n",
            "copying path '/nix/store/09b5m303v4d52wjry30xsabj65vnhkni-libffi-3.4.7' from 'https://cache.nixos.org'...\n",
            "copying path '/nix/store/9nw8b61s8lfdn8fkabxhbz0s775gjhbr-bash-5.2p37' from 'https://cache.nixos.org'...\n",
            "copying path '/nix/store/gki9d8dw4r9ri6zx44vsj90dnn9zji48-attr-2.5.2' from 'https://cache.nixos.org'...\n",
            "copying path '/nix/store/jk27jlxfsljcmz4jgxkxkmrc1hjgmq1p-zlib-1.3.1' from 'https://cache.nixos.org'...\n",
            "copying path '/nix/store/zlhxfnpm04w3gyv4v4dvd9x4aj4nghfw-acl-2.3.2' from 'https://cache.nixos.org'...\n",
            "copying path '/nix/store/vggjq418ca0z4pcknm61anh5kqjc3xsr-mpfr-4.2.1' from 'https://cache.nixos.org'...\n",
            "copying path '/nix/store/y2wf97cykyg2sjsiv7rnm2dwhnjhcws4-binutils-2.44-lib' from 'https://cache.nixos.org'...\n",
            "copying path '/nix/store/dpc0ysyfh1dniswvxnacc1pnsacikw7r-isl-0.20' from 'https://cache.nixos.org'...\n",
            "copying path '/nix/store/8i12gp78n1m9z794miwbsclgyyp5nm5s-gnugrep-3.11' from 'https://cache.nixos.org'...\n",
            "copying path '/nix/store/q49nn0l8cc0682k4fg50lw1jx5ycqacl-libmpc-1.3.1' from 'https://cache.nixos.org'...\n",
            "copying path '/nix/store/pz6jgrfqyl2il2785a75vmwdp9vypv0j-glibc-2.40-66-dev' from 'https://cache.nixos.org'...\n",
            "copying path '/nix/store/hzw38c3f7s0w200cgk9645z53al7k8lw-binutils-2.44' from 'https://cache.nixos.org'...\n",
            "copying path '/nix/store/jhpnlsrqi0qvv0jjwk1pq8ddqmgz1gjl-zstd-1.5.7' from 'https://cache.nixos.org'...\n",
            "copying path '/nix/store/cfsnf5wa9z9yklqilbijcw187923xyim-llvm-19.1.7-lib' from 'https://cache.nixos.org'...\n",
            "copying path '/nix/store/aqyb52i14zfswbawqlr8212pmagsrnzs-gmp-with-cxx-6.3.0' from 'https://cache.nixos.org'...\n",
            "copying path '/nix/store/qs54xir5n4vhhbi22aydbkvyyq4v8p0l-gcc-14.2.1.20250322' from 'https://cache.nixos.org'...\n",
            "copying path '/nix/store/2ln4xki7f2zhxygvcfv5hqv7pibizc5c-sccache-0.10.0' from 'https://cache.nixos.org'...\n",
            "copying path '/nix/store/ya5q1l7bvn87b2dpsy9fp0s819b50y3l-libssh2-1.11.1' from 'https://cache.nixos.org'...\n",
            "copying path '/nix/store/vdkk3hy54q6bj8j0cvjh5b8pbb7rfgm2-krb5-1.21.3-lib' from 'https://cache.nixos.org'...\n",
            "copying path '/nix/store/h5rn37dd6vfvr9xb0jq85sq8hf6xchry-coreutils-9.6' from 'https://cache.nixos.org'...\n",
            "copying path '/nix/store/kmq714baxkd5yzpnbp09b7dhnks6m74q-curl-8.12.1' from 'https://cache.nixos.org'...\n",
            "\u001b[35;1mwarning:\u001b[0m download buffer is full; consider increasing the 'download-buffer-size' setting\n",
            "copying path '/nix/store/i74bzbaq6i1bgy9frznv9n21b2z77nyd-binutils-wrapper-2.44' from 'https://cache.nixos.org'...\n",
            "copying path '/nix/store/nybwwcn1dra2z3vxi4h4v7rj9fr34pvs-rustc-wrapper-1.86.0-doc' from 'https://cache.nixos.org'...\n",
            "copying path '/nix/store/f0m6caffiykyvsjim9376a3hx2yj2ghj-gcc-wrapper-14.2.1.20250322' from 'https://cache.nixos.org'...\n",
            "copying path '/nix/store/lzxvm0dsrr14xrh3nrkws5v065cn5sp3-rustc-1.86.0' from 'https://cache.nixos.org'...\n",
            "copying path '/nix/store/szc39h0qqfs4fvvln0c59pz99q90zzdn-rustc-wrapper-1.86.0' from 'https://cache.nixos.org'...\n",
            "copying path '/nix/store/fz4yh05dwsbdaq1h2mxf6ls3vnz4jjr4-cargo-1.86.0' from 'https://cache.nixos.org'...\n",
            "copying path '/nix/store/6p0cpd83qy3vc250q2igbv3367adll0j-evcxr-0.17.0' from 'https://cache.nixos.org'...\n",
            "building '/nix/store/11v2zbiv10dnsczq4rcqvc3kl50g3lma-user-environment.drv'...\n",
            "Writing /root/.local/share/jupyter/kernels/rust/kernel.json\n",
            "Writing /root/.local/share/jupyter/kernels/rust/logo-32x32.png\n",
            "Writing /root/.local/share/jupyter/kernels/rust/logo-64x64.png\n",
            "Writing /root/.local/share/jupyter/kernels/rust/logo-LICENSE.md\n",
            "Writing /root/.local/share/jupyter/kernels/rust/kernel.js\n",
            "Writing /root/.local/share/jupyter/kernels/rust/lint.js\n",
            "Writing /root/.local/share/jupyter/kernels/rust/lint.css\n",
            "Writing /root/.local/share/jupyter/kernels/rust/lint-LICENSE\n",
            "Writing /root/.local/share/jupyter/kernels/rust/version.txt\n",
            "Installation complete\n",
            "bc102165f43db4ebd84fcdb4c5bfb129-b087c21310402bc999b36fecaf63207c74cf5b90/install_ipc_proxy_kernel.py\n",
            "bc102165f43db4ebd84fcdb4c5bfb129-b087c21310402bc999b36fecaf63207c74cf5b90/ipc_proxy_kernel.py\n"
          ]
        }
      ]
    },
    {
      "cell_type": "code",
      "metadata": {
        "id": "w1vDka50zZnA"
      },
      "source": [
        "println!(\"Hello, world!\");"
      ],
      "execution_count": null,
      "outputs": []
    },
    {
      "cell_type": "code",
      "metadata": {
        "id": "U0WiEMwNSWV6"
      },
      "source": [
        "// install a library for calling shell command\n",
        ":dep cmd_lib\n",
        "use cmd_lib::run_cmd as sh;"
      ],
      "execution_count": null,
      "outputs": []
    },
    {
      "cell_type": "code",
      "metadata": {
        "id": "S8Bn2i_9SrxB",
        "colab": {
          "base_uri": "https://localhost:8080/",
          "height": 156
        },
        "outputId": "c7e0feec-ef55-46f8-f722-2fc9b868fb80"
      },
      "source": [
        "sh!(ls -al)"
      ],
      "execution_count": null,
      "outputs": [
        {
          "output_type": "stream",
          "text": [
            "INFO: Running \"ls -al\" ...\n"
          ],
          "name": "stderr"
        },
        {
          "output_type": "stream",
          "text": [
            "total 4668\n",
            "drwxr-xr-x 1 root root    4096 Apr  5 02:57 .\n",
            "drwxr-xr-x 1 root root    4096 Apr  5 02:53 ..\n",
            "drwxr-xr-x 1 root root    4096 Apr  2 16:11 .config\n",
            "-rwxr-xr-x 1 root root 4762960 Apr  5 02:57 evcxr_jupyter\n",
            "drwxr-xr-x 1 root root    4096 Mar 18 16:23 sample_data\n"
          ],
          "name": "stdout"
        },
        {
          "output_type": "execute_result",
          "data": {
            "text/plain": [
              "Ok(())"
            ]
          },
          "metadata": {
            "tags": []
          },
          "execution_count": 15
        }
      ]
    }
  ]
}